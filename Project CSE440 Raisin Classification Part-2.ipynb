{
 "cells": [
  {
   "cell_type": "code",
   "execution_count": 1,
   "id": "e33c616c",
   "metadata": {},
   "outputs": [],
   "source": [
    "import pandas as pd"
   ]
  },
  {
   "cell_type": "code",
   "execution_count": 2,
   "id": "6c76e36c",
   "metadata": {},
   "outputs": [],
   "source": [
    "df = pd.read_excel('Raisin_Dataset.xlsx')"
   ]
  },
  {
   "cell_type": "code",
   "execution_count": 3,
   "id": "af4c7796",
   "metadata": {},
   "outputs": [
    {
     "name": "stdout",
     "output_type": "stream",
     "text": [
      "(900, 7)\n"
     ]
    },
    {
     "data": {
      "text/html": [
       "<div>\n",
       "<style scoped>\n",
       "    .dataframe tbody tr th:only-of-type {\n",
       "        vertical-align: middle;\n",
       "    }\n",
       "\n",
       "    .dataframe tbody tr th {\n",
       "        vertical-align: top;\n",
       "    }\n",
       "\n",
       "    .dataframe thead th {\n",
       "        text-align: right;\n",
       "    }\n",
       "</style>\n",
       "<table border=\"1\" class=\"dataframe\">\n",
       "  <thead>\n",
       "    <tr style=\"text-align: right;\">\n",
       "      <th></th>\n",
       "      <th>Area</th>\n",
       "      <th>MajorAxisLength</th>\n",
       "      <th>MinorAxisLength</th>\n",
       "      <th>Eccentricity</th>\n",
       "      <th>ConvexArea</th>\n",
       "      <th>Extent</th>\n",
       "      <th>Perimeter</th>\n",
       "    </tr>\n",
       "  </thead>\n",
       "  <tbody>\n",
       "    <tr>\n",
       "      <th>0</th>\n",
       "      <td>87524</td>\n",
       "      <td>442.246011</td>\n",
       "      <td>253.291155</td>\n",
       "      <td>0.819738</td>\n",
       "      <td>90546</td>\n",
       "      <td>0.758651</td>\n",
       "      <td>1184.040</td>\n",
       "    </tr>\n",
       "    <tr>\n",
       "      <th>1</th>\n",
       "      <td>75166</td>\n",
       "      <td>406.690687</td>\n",
       "      <td>243.032436</td>\n",
       "      <td>0.801805</td>\n",
       "      <td>78789</td>\n",
       "      <td>0.684130</td>\n",
       "      <td>1121.786</td>\n",
       "    </tr>\n",
       "    <tr>\n",
       "      <th>2</th>\n",
       "      <td>90856</td>\n",
       "      <td>442.267048</td>\n",
       "      <td>266.328318</td>\n",
       "      <td>0.798354</td>\n",
       "      <td>93717</td>\n",
       "      <td>0.637613</td>\n",
       "      <td>1208.575</td>\n",
       "    </tr>\n",
       "    <tr>\n",
       "      <th>3</th>\n",
       "      <td>45928</td>\n",
       "      <td>286.540559</td>\n",
       "      <td>208.760042</td>\n",
       "      <td>0.684989</td>\n",
       "      <td>47336</td>\n",
       "      <td>0.699599</td>\n",
       "      <td>844.162</td>\n",
       "    </tr>\n",
       "    <tr>\n",
       "      <th>4</th>\n",
       "      <td>79408</td>\n",
       "      <td>352.190770</td>\n",
       "      <td>290.827533</td>\n",
       "      <td>0.564011</td>\n",
       "      <td>81463</td>\n",
       "      <td>0.792772</td>\n",
       "      <td>1073.251</td>\n",
       "    </tr>\n",
       "  </tbody>\n",
       "</table>\n",
       "</div>"
      ],
      "text/plain": [
       "    Area  MajorAxisLength  MinorAxisLength  Eccentricity  ConvexArea  \\\n",
       "0  87524       442.246011       253.291155      0.819738       90546   \n",
       "1  75166       406.690687       243.032436      0.801805       78789   \n",
       "2  90856       442.267048       266.328318      0.798354       93717   \n",
       "3  45928       286.540559       208.760042      0.684989       47336   \n",
       "4  79408       352.190770       290.827533      0.564011       81463   \n",
       "\n",
       "     Extent  Perimeter  \n",
       "0  0.758651   1184.040  \n",
       "1  0.684130   1121.786  \n",
       "2  0.637613   1208.575  \n",
       "3  0.699599    844.162  \n",
       "4  0.792772   1073.251  "
      ]
     },
     "execution_count": 3,
     "metadata": {},
     "output_type": "execute_result"
    }
   ],
   "source": [
    "X = df.drop(columns = 'Class') # X contains the features \n",
    "y= df['Class']\n",
    "print(X.shape)\n",
    "X.head()"
   ]
  },
  {
   "cell_type": "code",
   "execution_count": 4,
   "id": "c3df966e",
   "metadata": {},
   "outputs": [],
   "source": [
    "from sklearn.model_selection import train_test_split\n",
    "X_train, X_test, y_train, y_test = train_test_split(X, y, test_size = 0.2 )"
   ]
  },
  {
   "cell_type": "code",
   "execution_count": 5,
   "id": "18dd1f91",
   "metadata": {},
   "outputs": [
    {
     "data": {
      "text/plain": [
       "array([0.2686924 , 0.34882192, 0.12463751, 0.1552953 , 0.28891057,\n",
       "       0.0231814 , 0.36406389])"
      ]
     },
     "execution_count": 5,
     "metadata": {},
     "output_type": "execute_result"
    }
   ],
   "source": [
    "from sklearn.feature_selection import mutual_info_classif\n",
    "\n",
    "mutual_info = mutual_info_classif(X_train, y_train, random_state = 20)\n",
    "mutual_info"
   ]
  },
  {
   "cell_type": "code",
   "execution_count": 6,
   "id": "d530ee50",
   "metadata": {},
   "outputs": [
    {
     "name": "stdout",
     "output_type": "stream",
     "text": [
      "7\n",
      "(720, 7)\n"
     ]
    }
   ],
   "source": [
    "print(len(mutual_info))\n",
    "print(X_train.shape)"
   ]
  },
  {
   "cell_type": "code",
   "execution_count": 7,
   "id": "3d4acc57",
   "metadata": {},
   "outputs": [
    {
     "data": {
      "text/plain": [
       "Perimeter          0.364064\n",
       "MajorAxisLength    0.348822\n",
       "ConvexArea         0.288911\n",
       "Area               0.268692\n",
       "Eccentricity       0.155295\n",
       "MinorAxisLength    0.124638\n",
       "Extent             0.023181\n",
       "dtype: float64"
      ]
     },
     "execution_count": 7,
     "metadata": {},
     "output_type": "execute_result"
    }
   ],
   "source": [
    "mutual_info = pd.Series(mutual_info)\n",
    "mutual_info.index = X_train.columns\n",
    "mutual_info.sort_values(ascending = False)"
   ]
  },
  {
   "cell_type": "code",
   "execution_count": 8,
   "id": "76b7ef9e",
   "metadata": {},
   "outputs": [
    {
     "data": {
      "image/png": "[encoded data removed]",
      "text/plain": [
       "<Figure size 1440x576 with 1 Axes>"
      ]
     },
     "metadata": {
      "needs_background": "light"
     },
     "output_type": "display_data"
    }
   ],
   "source": [
    "from matplotlib import pyplot as plt\n",
    "plt.figure(figsize = (20, 8))\n",
    "mutual_info.sort_values(ascending = False).plot.bar();"
   ]
  },
  {
   "cell_type": "code",
   "execution_count": 9,
   "id": "fc8aa8f9",
   "metadata": {},
   "outputs": [
    {
     "name": "stdout",
     "output_type": "stream",
     "text": [
      "(720, 4)\n",
      "(180, 4)\n"
     ]
    }
   ],
   "source": [
    "X_train = X_train.drop(columns = ['Extent', 'Eccentricity','MinorAxisLength'], axis=1)\n",
    "X_test = X_test.drop(columns = ['Extent', 'Eccentricity','MinorAxisLength'], axis=1)\n",
    "# ['C', 'D']\n",
    "\n",
    "print(X_train.shape)\n",
    "print(X_test.shape)"
   ]
  },
  {
   "cell_type": "code",
   "execution_count": 10,
   "id": "16f7a1eb",
   "metadata": {},
   "outputs": [],
   "source": [
    "from sklearn.metrics import classification_report, confusion_matrix, plot_confusion_matrix, accuracy_score"
   ]
  },
  {
   "cell_type": "code",
   "execution_count": 11,
   "id": "4b8c5ac9",
   "metadata": {},
   "outputs": [
    {
     "name": "stdout",
     "output_type": "stream",
     "text": [
      "Logistic Regression with no regularization\n",
      "Train Accuracy:  0.8527777777777777\n",
      "Test Accuracy:  0.8833333333333333\n",
      "              precision    recall  f1-score   support\n",
      "\n",
      "       Besni       0.90      0.88      0.89        96\n",
      "     Kecimen       0.86      0.89      0.88        84\n",
      "\n",
      "    accuracy                           0.88       180\n",
      "   macro avg       0.88      0.88      0.88       180\n",
      "weighted avg       0.88      0.88      0.88       180\n",
      "\n"
     ]
    },
    {
     "name": "stderr",
     "output_type": "stream",
     "text": [
      "C:\\Users\\USER\\anaconda3\\lib\\site-packages\\sklearn\\utils\\deprecation.py:87: FutureWarning: Function plot_confusion_matrix is deprecated; Function `plot_confusion_matrix` is deprecated in 1.0 and will be removed in 1.2. Use one of the class methods: ConfusionMatrixDisplay.from_predictions or ConfusionMatrixDisplay.from_estimator.\n",
      "  warnings.warn(msg, category=FutureWarning)\n"
     ]
    },
    {
     "data": {
      "image/png": "[encoded data removed]",
      "text/plain": [
       "<Figure size 720x432 with 2 Axes>"
      ]
     },
     "metadata": {
      "needs_background": "light"
     },
     "output_type": "display_data"
    },
    {
     "name": "stdout",
     "output_type": "stream",
     "text": [
      "\n",
      "Logistic Regression with L2 regularization\n",
      "Train Accuracy:  0.8527777777777777\n",
      "Test Accuracy:  0.8833333333333333\n",
      "              precision    recall  f1-score   support\n",
      "\n",
      "       Besni       0.90      0.88      0.89        96\n",
      "     Kecimen       0.86      0.89      0.88        84\n",
      "\n",
      "    accuracy                           0.88       180\n",
      "   macro avg       0.88      0.88      0.88       180\n",
      "weighted avg       0.88      0.88      0.88       180\n",
      "\n"
     ]
    },
    {
     "name": "stderr",
     "output_type": "stream",
     "text": [
      "C:\\Users\\USER\\anaconda3\\lib\\site-packages\\sklearn\\utils\\deprecation.py:87: FutureWarning: Function plot_confusion_matrix is deprecated; Function `plot_confusion_matrix` is deprecated in 1.0 and will be removed in 1.2. Use one of the class methods: ConfusionMatrixDisplay.from_predictions or ConfusionMatrixDisplay.from_estimator.\n",
      "  warnings.warn(msg, category=FutureWarning)\n"
     ]
    },
    {
     "data": {
      "image/png": "[encoded data removed]",
      "text/plain": [
       "<Figure size 720x432 with 2 Axes>"
      ]
     },
     "metadata": {
      "needs_background": "light"
     },
     "output_type": "display_data"
    }
   ],
   "source": [
    "from sklearn.linear_model import LogisticRegression\n",
    "from sklearn.metrics import accuracy_score\n",
    "clf = LogisticRegression(penalty = 'none')\n",
    "\n",
    "clf.fit(X_train, y_train)\n",
    "y_pred_train = clf.predict(X_train)\n",
    "y_pred_test = clf.predict(X_test)\n",
    "print(\"Logistic Regression with no regularization\")\n",
    "print(\"Train Accuracy: \", accuracy_score(y_pred_train, y_train))\n",
    "print(\"Test Accuracy: \", accuracy_score(y_pred_test, y_test))\n",
    "print(classification_report(y_test,y_pred_test))\n",
    "matrix = plot_confusion_matrix(clf , X_test, y_test, cmap=plt.cm.Reds)\n",
    "matrix.ax_.set_title('Confusion Matrix Plot for Logistic Regression with no regularization', color='black')\n",
    "plt.xlabel('Predicted Label', color='black')\n",
    "plt.ylabel('True Label', color='black')\n",
    "plt.gcf().axes[0].tick_params(colors='black')\n",
    "plt.gcf().axes[1].tick_params(colors='black')\n",
    "plt.gcf().set_size_inches(10,6)\n",
    "plt.show()\n",
    "print()\n",
    "\n",
    "clf = LogisticRegression(penalty = 'l2')\n",
    "\n",
    "clf.fit(X_train, y_train)\n",
    "y_pred_train = clf.predict(X_train)\n",
    "y_pred_test = clf.predict(X_test)\n",
    "print(\"Logistic Regression with L2 regularization\")\n",
    "print(\"Train Accuracy: \", accuracy_score(y_pred_train, y_train))\n",
    "print(\"Test Accuracy: \", accuracy_score(y_pred_test, y_test))\n",
    "print(classification_report(y_test,y_pred_test))\n",
    "matrix = plot_confusion_matrix(clf , X_test, y_test, cmap=plt.cm.Reds)\n",
    "matrix.ax_.set_title('Confusion Matrix Plot for Logistic Regression with L2 regularization', color='black')\n",
    "plt.xlabel('Predicted Label', color='black')\n",
    "plt.ylabel('True Label', color='black')\n",
    "plt.gcf().axes[0].tick_params(colors='black')\n",
    "plt.gcf().axes[1].tick_params(colors='black')\n",
    "plt.gcf().set_size_inches(10,6)\n",
    "plt.show()"
   ]
  },
  {
   "cell_type": "code",
   "execution_count": 12,
   "id": "71404614",
   "metadata": {},
   "outputs": [
    {
     "name": "stdout",
     "output_type": "stream",
     "text": [
      "Train Accuracy:  1.0\n",
      "Test Accuracy:  0.8722222222222222\n",
      "              precision    recall  f1-score   support\n",
      "\n",
      "       Besni       0.88      0.89      0.88        96\n",
      "     Kecimen       0.87      0.86      0.86        84\n",
      "\n",
      "    accuracy                           0.87       180\n",
      "   macro avg       0.87      0.87      0.87       180\n",
      "weighted avg       0.87      0.87      0.87       180\n",
      "\n"
     ]
    },
    {
     "name": "stderr",
     "output_type": "stream",
     "text": [
      "C:\\Users\\USER\\anaconda3\\lib\\site-packages\\sklearn\\utils\\deprecation.py:87: FutureWarning: Function plot_confusion_matrix is deprecated; Function `plot_confusion_matrix` is deprecated in 1.0 and will be removed in 1.2. Use one of the class methods: ConfusionMatrixDisplay.from_predictions or ConfusionMatrixDisplay.from_estimator.\n",
      "  warnings.warn(msg, category=FutureWarning)\n"
     ]
    },
    {
     "data": {
      "image/png": "[encoded data removed]",
      "text/plain": [
       "<Figure size 720x432 with 2 Axes>"
      ]
     },
     "metadata": {
      "needs_background": "light"
     },
     "output_type": "display_data"
    }
   ],
   "source": [
    "from sklearn.ensemble import RandomForestClassifier\n",
    "rf_classifier=RandomForestClassifier(n_estimators=100, criterion ='entropy', random_state = 0).fit(X_train, y_train)\n",
    "y_pred_train=rf_classifier.predict(X_train)\n",
    "y_pred_test = rf_classifier.predict(X_test)\n",
    "print(\"Train Accuracy: \", accuracy_score(y_pred_train, y_train))\n",
    "print(\"Test Accuracy: \", accuracy_score(y_pred_test, y_test))\n",
    "print(classification_report(y_test,y_pred_test))\n",
    "matrix = plot_confusion_matrix(rf_classifier , X_test, y_test, cmap=plt.cm.Reds)\n",
    "matrix.ax_.set_title('Confusion Matrix Plot for Random Forest Classifier', color='black')\n",
    "plt.xlabel('Predicted Label', color='black')\n",
    "plt.ylabel('True Label', color='black')\n",
    "plt.gcf().axes[0].tick_params(colors='black')\n",
    "plt.gcf().axes[1].tick_params(colors='black')\n",
    "plt.gcf().set_size_inches(10,6)\n",
    "plt.show()"
   ]
  },
  {
   "cell_type": "code",
   "execution_count": 13,
   "id": "2bfa01e4",
   "metadata": {},
   "outputs": [
    {
     "name": "stdout",
     "output_type": "stream",
     "text": [
      "Train Accuracy:  0.7666666666666667\n",
      "Test Accuracy:  0.7777777777777778\n",
      "              precision    recall  f1-score   support\n",
      "\n",
      "       Besni       0.82      0.75      0.78        96\n",
      "     Kecimen       0.74      0.81      0.77        84\n",
      "\n",
      "    accuracy                           0.78       180\n",
      "   macro avg       0.78      0.78      0.78       180\n",
      "weighted avg       0.78      0.78      0.78       180\n",
      "\n"
     ]
    },
    {
     "name": "stderr",
     "output_type": "stream",
     "text": [
      "C:\\Users\\USER\\anaconda3\\lib\\site-packages\\sklearn\\utils\\deprecation.py:87: FutureWarning: Function plot_confusion_matrix is deprecated; Function `plot_confusion_matrix` is deprecated in 1.0 and will be removed in 1.2. Use one of the class methods: ConfusionMatrixDisplay.from_predictions or ConfusionMatrixDisplay.from_estimator.\n",
      "  warnings.warn(msg, category=FutureWarning)\n"
     ]
    },
    {
     "data": {
      "image/png": "[encoded data removed]",
      "text/plain": [
       "<Figure size 720x432 with 2 Axes>"
      ]
     },
     "metadata": {
      "needs_background": "light"
     },
     "output_type": "display_data"
    }
   ],
   "source": [
    "# Multinomial Naive Bayes\n",
    "\n",
    "from sklearn.naive_bayes import MultinomialNB\n",
    "clf = MultinomialNB()\n",
    "clf.fit(X_train, y_train)\n",
    "y_pred_train = clf.predict(X_train)\n",
    "y_pred_test = clf.predict(X_test)\n",
    "print(\"Train Accuracy: \", accuracy_score(y_pred_train, y_train))\n",
    "print(\"Test Accuracy: \", accuracy_score(y_pred_test, y_test))\n",
    "print(classification_report(y_test,y_pred_test))\n",
    "matrix = plot_confusion_matrix(clf , X_test, y_test, cmap=plt.cm.Reds)\n",
    "matrix.ax_.set_title('Confusion Matrix Plot for Naive Bayes Classifier', color='black')\n",
    "plt.xlabel('Predicted Label', color='black')\n",
    "plt.ylabel('True Label', color='black')\n",
    "plt.gcf().axes[0].tick_params(colors='black')\n",
    "plt.gcf().axes[1].tick_params(colors='black')\n",
    "plt.gcf().set_size_inches(10,6)\n",
    "plt.show()"
   ]
  },
  {
   "cell_type": "code",
   "execution_count": 17,
   "id": "b81dbe06",
   "metadata": {},
   "outputs": [
    {
     "name": "stdout",
     "output_type": "stream",
     "text": [
      "K =  1 , Training Accuracy =  1.0  Test Accuracy =  0.8277777777777777 , Difference =  17.22222222222223 %\n",
      "K =  5 , Training Accuracy =  0.8611111111111112  Test Accuracy =  0.8611111111111112 , Difference =  0.0 %\n",
      "K =  10 , Training Accuracy =  0.8597222222222223  Test Accuracy =  0.85 , Difference =  0.9722222222222299 %\n",
      "K =  15 , Training Accuracy =  0.8430555555555556  Test Accuracy =  0.8444444444444444 , Difference =  0.1388888888888884 %\n",
      "K =  20 , Training Accuracy =  0.8375  Test Accuracy =  0.85 , Difference =  1.2499999999999956 %\n",
      "K =  25 , Training Accuracy =  0.8305555555555556  Test Accuracy =  0.8388888888888889 , Difference =  0.8333333333333304 %\n",
      "K =  30 , Training Accuracy =  0.8236111111111111  Test Accuracy =  0.8333333333333334 , Difference =  0.9722222222222299 %\n"
     ]
    },
    {
     "data": {
      "image/png": "[encoded data removed]",
      "text/plain": [
       "<Figure size 432x288 with 1 Axes>"
      ]
     },
     "metadata": {
      "needs_background": "light"
     },
     "output_type": "display_data"
    }
   ],
   "source": [
    "# KNN with Euclidean Distance Metric\n",
    "import numpy as np\n",
    "from sklearn.neighbors import KNeighborsClassifier\n",
    "numNeighbors = [1, 5, 10, 15, 20, 25, 30]\n",
    "trainAcc = []\n",
    "testAcc = []\n",
    "\n",
    "for k in numNeighbors:\n",
    "    clf = KNeighborsClassifier(n_neighbors=k, metric='minkowski', p=2)\n",
    "    clf.fit(X_train, y_train)\n",
    "    y_predTrain = clf.predict(X_train)\n",
    "    y_predTest = clf.predict(X_test)\n",
    "    trainAcc.append(accuracy_score(y_train, y_predTrain))\n",
    "    testAcc.append(accuracy_score(y_test, y_predTest))\n",
    "\n",
    "plt.plot(numNeighbors, trainAcc, 'ro-', numNeighbors, testAcc,'bv--')\n",
    "plt.legend(['Training Accuracy','Test Accuracy'])\n",
    "plt.xlabel('Number of neighbors')\n",
    "plt.ylabel('Accuracy');\n",
    "\n",
    "index = 0\n",
    "for i in numNeighbors:\n",
    "    print(\"K = \", numNeighbors[index], \", Training Accuracy = \", trainAcc[index], \" Test Accuracy = \", testAcc[index], \n",
    "          \", Difference = \", np.abs(trainAcc[index]-testAcc[index])*100, \"%\")\n",
    "    index+=1"
   ]
  },
  {
   "cell_type": "code",
   "execution_count": 18,
   "id": "fb3b5db1",
   "metadata": {},
   "outputs": [
    {
     "name": "stdout",
     "output_type": "stream",
     "text": [
      "K =  5 , Training Accuracy =  0.8611111111111112  Test Accuracy =  0.8611111111111112 , Difference =  0.0 %\n"
     ]
    },
    {
     "data": {
      "image/png": "[encoded data removed]",
      "text/plain": [
       "<Figure size 432x288 with 1 Axes>"
      ]
     },
     "metadata": {
      "needs_background": "light"
     },
     "output_type": "display_data"
    }
   ],
   "source": [
    "# KNN with Euclidean Distance Metric\n",
    "import numpy as np\n",
    "from sklearn.neighbors import KNeighborsClassifier\n",
    "numNeighbors = [5]\n",
    "trainAcc = []\n",
    "testAcc = []\n",
    "\n",
    "for k in numNeighbors:\n",
    "    clf = KNeighborsClassifier(n_neighbors=k, metric='minkowski', p=2)\n",
    "    clf.fit(X_train, y_train)\n",
    "    y_predTrain = clf.predict(X_train)\n",
    "    y_predTest = clf.predict(X_test)\n",
    "    trainAcc.append(accuracy_score(y_train, y_predTrain))\n",
    "    testAcc.append(accuracy_score(y_test, y_predTest))\n",
    "\n",
    "plt.plot(numNeighbors, trainAcc, 'ro-', numNeighbors, testAcc,'bv--')\n",
    "plt.legend(['Training Accuracy','Test Accuracy'])\n",
    "plt.xlabel('Number of neighbors')\n",
    "plt.ylabel('Accuracy');\n",
    "\n",
    "index = 0\n",
    "for i in numNeighbors:\n",
    "    print(\"K = \", numNeighbors[index], \", Training Accuracy = \", trainAcc[index], \" Test Accuracy = \", testAcc[index], \n",
    "          \", Difference = \", np.abs(trainAcc[index]-testAcc[index])*100, \"%\")\n",
    "    index+=1"
   ]
  },
  {
   "cell_type": "code",
   "execution_count": 19,
   "id": "dc6f2e33",
   "metadata": {},
   "outputs": [
    {
     "name": "stdout",
     "output_type": "stream",
     "text": [
      "K =  1 , Training Accuracy =  1.0  Test Accuracy =  0.8388888888888889 , Difference =  16.11111111111111 %\n",
      "K =  5 , Training Accuracy =  0.8680555555555556  Test Accuracy =  0.8611111111111112 , Difference =  0.694444444444442 %\n",
      "K =  10 , Training Accuracy =  0.8611111111111112  Test Accuracy =  0.8388888888888889 , Difference =  2.2222222222222254 %\n",
      "K =  15 , Training Accuracy =  0.8444444444444444  Test Accuracy =  0.8444444444444444 , Difference =  0.0 %\n",
      "K =  20 , Training Accuracy =  0.8361111111111111  Test Accuracy =  0.8388888888888889 , Difference =  0.2777777777777768 %\n",
      "K =  25 , Training Accuracy =  0.8291666666666667  Test Accuracy =  0.8333333333333334 , Difference =  0.4166666666666652 %\n",
      "K =  30 , Training Accuracy =  0.8180555555555555  Test Accuracy =  0.8333333333333334 , Difference =  1.5277777777777835 %\n"
     ]
    },
    {
     "data": {
      "image/png": "[encoded data removed]",
      "text/plain": [
       "<Figure size 432x288 with 1 Axes>"
      ]
     },
     "metadata": {
      "needs_background": "light"
     },
     "output_type": "display_data"
    }
   ],
   "source": [
    "numNeighbors = [1, 5, 10, 15, 20, 25, 30]\n",
    "trainAcc = []\n",
    "testAcc = []\n",
    "\n",
    "for k in numNeighbors:\n",
    "    clf = KNeighborsClassifier(n_neighbors=k, metric='minkowski', p=1)\n",
    "    clf.fit(X_train, y_train)\n",
    "    y_predTrain = clf.predict(X_train)\n",
    "    y_predTest = clf.predict(X_test)\n",
    "    trainAcc.append(accuracy_score(y_train, y_predTrain))\n",
    "    testAcc.append(accuracy_score(y_test, y_predTest))\n",
    "\n",
    "plt.plot(numNeighbors, trainAcc, 'ro-', numNeighbors, testAcc,'bv--')\n",
    "plt.legend(['Training Accuracy','Test Accuracy'])\n",
    "plt.xlabel('Number of neighbors')\n",
    "plt.ylabel('Accuracy');\n",
    "\n",
    "index = 0\n",
    "for i in numNeighbors:\n",
    "    print(\"K = \", numNeighbors[index], \", Training Accuracy = \", trainAcc[index], \" Test Accuracy = \", testAcc[index], \n",
    "          \", Difference = \", np.abs(trainAcc[index]-testAcc[index])*100, \"%\")\n",
    "    index+=1"
   ]
  },
  {
   "cell_type": "code",
   "execution_count": 20,
   "id": "110956b1",
   "metadata": {},
   "outputs": [
    {
     "name": "stdout",
     "output_type": "stream",
     "text": [
      "K =  15 , Training Accuracy =  0.8444444444444444  Test Accuracy =  0.8444444444444444 , Difference =  0.0 %\n"
     ]
    },
    {
     "data": {
      "image/png": "[encoded data removed]",
      "text/plain": [
       "<Figure size 432x288 with 1 Axes>"
      ]
     },
     "metadata": {
      "needs_background": "light"
     },
     "output_type": "display_data"
    }
   ],
   "source": [
    "numNeighbors = [15]\n",
    "trainAcc = []\n",
    "testAcc = []\n",
    "\n",
    "for k in numNeighbors:\n",
    "    clf = KNeighborsClassifier(n_neighbors=k, metric='minkowski', p=1)\n",
    "    clf.fit(X_train, y_train)\n",
    "    y_predTrain = clf.predict(X_train)\n",
    "    y_predTest = clf.predict(X_test)\n",
    "    trainAcc.append(accuracy_score(y_train, y_predTrain))\n",
    "    testAcc.append(accuracy_score(y_test, y_predTest))\n",
    "\n",
    "plt.plot(numNeighbors, trainAcc, 'ro-', numNeighbors, testAcc,'bv--')\n",
    "plt.legend(['Training Accuracy','Test Accuracy'])\n",
    "plt.xlabel('Number of neighbors')\n",
    "plt.ylabel('Accuracy');\n",
    "\n",
    "index = 0\n",
    "for i in numNeighbors:\n",
    "    print(\"K = \", numNeighbors[index], \", Training Accuracy = \", trainAcc[index], \" Test Accuracy = \", testAcc[index], \n",
    "          \", Difference = \", np.abs(trainAcc[index]-testAcc[index])*100, \"%\")\n",
    "    index+=1"
   ]
  },
  {
   "cell_type": "code",
   "execution_count": 21,
   "id": "578405d6",
   "metadata": {},
   "outputs": [
    {
     "name": "stdout",
     "output_type": "stream",
     "text": [
      "Depth =  2 , Training Accuracy =  0.8625 , Test Accuracy =  0.8777777777777778 , Diff =  1.5277777777777724  %\n",
      "Depth =  3 , Training Accuracy =  0.875 , Test Accuracy =  0.8666666666666667 , Diff =  0.8333333333333304  %\n",
      "Depth =  4 , Training Accuracy =  0.8805555555555555 , Test Accuracy =  0.8666666666666667 , Diff =  1.388888888888884  %\n",
      "Depth =  5 , Training Accuracy =  0.8986111111111111 , Test Accuracy =  0.8722222222222222 , Diff =  2.6388888888888906  %\n",
      "Depth =  6 , Training Accuracy =  0.9097222222222222 , Test Accuracy =  0.8555555555555555 , Diff =  5.41666666666667  %\n",
      "Depth =  7 , Training Accuracy =  0.9277777777777778 , Test Accuracy =  0.8611111111111112 , Diff =  6.666666666666665  %\n",
      "Depth =  8 , Training Accuracy =  0.9388888888888889 , Test Accuracy =  0.8444444444444444 , Diff =  9.444444444444445  %\n",
      "Depth =  9 , Training Accuracy =  0.95 , Test Accuracy =  0.8388888888888889 , Diff =  11.111111111111105  %\n",
      "Depth =  10 , Training Accuracy =  0.9652777777777778 , Test Accuracy =  0.8333333333333334 , Diff =  13.194444444444443  %\n",
      "Depth =  15 , Training Accuracy =  0.9902777777777778 , Test Accuracy =  0.8166666666666667 , Diff =  17.361111111111114  %\n",
      "Depth =  20 , Training Accuracy =  0.9986111111111111 , Test Accuracy =  0.8 , Diff =  19.861111111111107  %\n",
      "Depth =  25 , Training Accuracy =  1.0 , Test Accuracy =  0.7944444444444444 , Diff =  20.55555555555556  %\n",
      "Depth =  30 , Training Accuracy =  1.0 , Test Accuracy =  0.8 , Diff =  19.999999999999996  %\n",
      "Depth =  35 , Training Accuracy =  1.0 , Test Accuracy =  0.7944444444444444 , Diff =  20.55555555555556  %\n",
      "Depth =  40 , Training Accuracy =  1.0 , Test Accuracy =  0.7888888888888889 , Diff =  21.111111111111114  %\n",
      "Depth =  45 , Training Accuracy =  1.0 , Test Accuracy =  0.7944444444444444 , Diff =  20.55555555555556  %\n",
      "Depth =  50 , Training Accuracy =  1.0 , Test Accuracy =  0.7944444444444444 , Diff =  20.55555555555556  %\n"
     ]
    },
    {
     "data": {
      "image/png": "[encoded data removed]",
      "text/plain": [
       "<Figure size 432x288 with 1 Axes>"
      ]
     },
     "metadata": {
      "needs_background": "light"
     },
     "output_type": "display_data"
    }
   ],
   "source": [
    "from sklearn.tree import DecisionTreeClassifier\n",
    "from sklearn.metrics import accuracy_score\n",
    "maxdepths = [2,3,4,5,6,7,8,9,10,15,20,25,30,35,40,45,50]# trees of different max depth\n",
    "trainAcc = np.zeros(len(maxdepths))# makes a list of array of same size as max depth\n",
    "testAcc = np.zeros(len(maxdepths))\n",
    "\n",
    "index = 0\n",
    "for depth in maxdepths:# 2 then 3 then .....\n",
    "    clf = DecisionTreeClassifier(max_depth=depth)# 2 then 3....\n",
    "    clf = clf.fit(X_train, y_train)# clf=decision tree classifier\n",
    "    y_predTrain = clf.predict(X_train)\n",
    "    y_predTest = clf.predict(X_test)\n",
    "    trainAcc[index] = accuracy_score(y_train, y_predTrain)\n",
    "    testAcc[index] = accuracy_score(y_test, y_predTest)\n",
    "    print(\"Depth = \", depth, \", Training Accuracy = \", trainAcc[index], \", Test Accuracy = \", testAcc[index], \n",
    "          \", Diff = \", np.abs((trainAcc[index]-testAcc[index])*100), \" %\")\n",
    "    index += 1\n",
    "\n",
    "    \n",
    "#########################################\n",
    "# Plot of training and test accuracies\n",
    "#########################################\n",
    "    \n",
    "plt.plot(maxdepths,trainAcc,'ro-',maxdepths,testAcc,'bv--')\n",
    "plt.legend(['Training Accuracy','Test Accuracy'])\n",
    "plt.xlabel('Max depth')\n",
    "plt.ylabel('Accuracy');"
   ]
  },
  {
   "cell_type": "code",
   "execution_count": 22,
   "id": "ab15bd15",
   "metadata": {},
   "outputs": [
    {
     "name": "stdout",
     "output_type": "stream",
     "text": [
      "Train Accuracy:  1.0\n",
      "Test Accuracy:  0.7944444444444444\n",
      "              precision    recall  f1-score   support\n",
      "\n",
      "       Besni       0.80      0.81      0.81        96\n",
      "     Kecimen       0.78      0.77      0.78        84\n",
      "\n",
      "    accuracy                           0.79       180\n",
      "   macro avg       0.79      0.79      0.79       180\n",
      "weighted avg       0.79      0.79      0.79       180\n",
      "\n"
     ]
    },
    {
     "name": "stderr",
     "output_type": "stream",
     "text": [
      "C:\\Users\\USER\\anaconda3\\lib\\site-packages\\sklearn\\utils\\deprecation.py:87: FutureWarning: Function plot_confusion_matrix is deprecated; Function `plot_confusion_matrix` is deprecated in 1.0 and will be removed in 1.2. Use one of the class methods: ConfusionMatrixDisplay.from_predictions or ConfusionMatrixDisplay.from_estimator.\n",
      "  warnings.warn(msg, category=FutureWarning)\n"
     ]
    },
    {
     "data": {
      "image/png": "[encoded data removed]",
      "text/plain": [
       "<Figure size 720x432 with 2 Axes>"
      ]
     },
     "metadata": {
      "needs_background": "light"
     },
     "output_type": "display_data"
    }
   ],
   "source": [
    "dt = DecisionTreeClassifier(max_depth = 3, random_state=1)\n",
    "dt.fit(X_train, y_train)\n",
    "y_pred_train = clf.predict(X_train)\n",
    "y_pred_test = clf.predict(X_test)\n",
    "print(\"Train Accuracy: \", accuracy_score(y_pred_train, y_train))\n",
    "print(\"Test Accuracy: \", accuracy_score(y_pred_test, y_test))\n",
    "print(classification_report(y_test,y_pred_test))\n",
    "matrix = plot_confusion_matrix(dt , X_test, y_test, cmap=plt.cm.Reds)\n",
    "matrix.ax_.set_title('Confusion Matrix Plot for Decision Tree Classifier', color='black')\n",
    "plt.xlabel('Predicted Label', color='black')\n",
    "plt.ylabel('True Label', color='black')\n",
    "plt.gcf().axes[0].tick_params(colors='black')\n",
    "plt.gcf().axes[1].tick_params(colors='black')\n",
    "plt.gcf().set_size_inches(10,6)\n",
    "plt.show()"
   ]
  },
  {
   "cell_type": "code",
   "execution_count": 23,
   "id": "a2dd5d1b",
   "metadata": {},
   "outputs": [
    {
     "name": "stdout",
     "output_type": "stream",
     "text": [
      "{'n_estimators': [200, 400, 600, 800, 1000, 1200, 1400, 1600, 1800, 2000], 'max_features': ['auto', 'sqrt', 'log2'], 'max_depth': [10, 120, 230, 340, 450, 560, 670, 780, 890, 1000], 'min_samples_split': [2, 5, 10, 14], 'min_samples_leaf': [1, 2, 4, 6, 8], 'criterion': ['entropy', 'gini']}\n"
     ]
    }
   ],
   "source": [
    "import numpy as np\n",
    "from sklearn.model_selection import RandomizedSearchCV\n",
    "# Number of trees in random forest\n",
    "n_estimators = [int(x) for x in np.linspace(start = 200, stop = 2000, num = 10)]\n",
    "# Number of features to consider at every split\n",
    "max_features = ['auto', 'sqrt','log2']\n",
    "# Maximum number of levels in tree\n",
    "max_depth = [int(x) for x in np.linspace(10, 1000,10)]\n",
    "# Minimum number of samples required to split a node\n",
    "min_samples_split = [2, 5, 10,14]\n",
    "# Minimum number of samples required at each leaf node\n",
    "min_samples_leaf = [1, 2, 4,6,8]\n",
    "# Create the random grid\n",
    "random_grid = {'n_estimators': n_estimators,\n",
    "               'max_features': max_features,\n",
    "               'max_depth': max_depth,\n",
    "               'min_samples_split': min_samples_split,\n",
    "               'min_samples_leaf': min_samples_leaf,\n",
    "              'criterion':['entropy','gini']}\n",
    "print(random_grid)"
   ]
  },
  {
   "cell_type": "code",
   "execution_count": 24,
   "id": "0098bd3d",
   "metadata": {},
   "outputs": [
    {
     "name": "stdout",
     "output_type": "stream",
     "text": [
      "Fitting 3 folds for each of 100 candidates, totalling 300 fits\n"
     ]
    },
    {
     "data": {
      "text/plain": [
       "RandomizedSearchCV(cv=3, estimator=RandomForestClassifier(), n_iter=100,\n",
       "                   n_jobs=-1,\n",
       "                   param_distributions={'criterion': ['entropy', 'gini'],\n",
       "                                        'max_depth': [10, 120, 230, 340, 450,\n",
       "                                                      560, 670, 780, 890,\n",
       "                                                      1000],\n",
       "                                        'max_features': ['auto', 'sqrt',\n",
       "                                                         'log2'],\n",
       "                                        'min_samples_leaf': [1, 2, 4, 6, 8],\n",
       "                                        'min_samples_split': [2, 5, 10, 14],\n",
       "                                        'n_estimators': [200, 400, 600, 800,\n",
       "                                                         1000, 1200, 1400, 1600,\n",
       "                                                         1800, 2000]},\n",
       "                   random_state=100, verbose=2)"
      ]
     },
     "execution_count": 24,
     "metadata": {},
     "output_type": "execute_result"
    }
   ],
   "source": [
    "rf=RandomForestClassifier()\n",
    "rf_randomcv=RandomizedSearchCV(estimator=rf,param_distributions=random_grid,n_iter=100,cv=3,verbose=2,\n",
    "                               random_state=100,n_jobs=-1)\n",
    "### fit the randomized model rf=random forest, n_iter = number of iteration\n",
    "rf_randomcv.fit(X_train,y_train)"
   ]
  },
  {
   "cell_type": "code",
   "execution_count": 25,
   "id": "fd5fb830",
   "metadata": {},
   "outputs": [
    {
     "data": {
      "text/plain": [
       "RandomForestClassifier(max_depth=120, max_features='log2', min_samples_leaf=4,\n",
       "                       min_samples_split=5, n_estimators=1400)"
      ]
     },
     "execution_count": 25,
     "metadata": {},
     "output_type": "execute_result"
    }
   ],
   "source": [
    "rf_randomcv.best_estimator_"
   ]
  },
  {
   "cell_type": "code",
   "execution_count": 26,
   "id": "df816d3d",
   "metadata": {},
   "outputs": [],
   "source": [
    "best_random_grid=rf_randomcv.best_estimator_"
   ]
  },
  {
   "cell_type": "code",
   "execution_count": 27,
   "id": "8f035e8b",
   "metadata": {},
   "outputs": [
    {
     "name": "stdout",
     "output_type": "stream",
     "text": [
      "[[84 12]\n",
      " [13 71]]\n",
      "Accuracy Score 0.8611111111111112\n",
      "Classification report:               precision    recall  f1-score   support\n",
      "\n",
      "       Besni       0.87      0.88      0.87        96\n",
      "     Kecimen       0.86      0.85      0.85        84\n",
      "\n",
      "    accuracy                           0.86       180\n",
      "   macro avg       0.86      0.86      0.86       180\n",
      "weighted avg       0.86      0.86      0.86       180\n",
      "\n"
     ]
    }
   ],
   "source": [
    "from sklearn.metrics import accuracy_score\n",
    "y_pred=best_random_grid.predict(X_test)\n",
    "print(confusion_matrix(y_test,y_pred))\n",
    "print(\"Accuracy Score {}\".format(accuracy_score(y_test,y_pred)))\n",
    "print(\"Classification report: {}\".format(classification_report(y_test,y_pred)))"
   ]
  },
  {
   "cell_type": "code",
   "execution_count": 28,
   "id": "e1188fe7",
   "metadata": {},
   "outputs": [
    {
     "data": {
      "text/plain": [
       "{'n_estimators': 1400,\n",
       " 'min_samples_split': 5,\n",
       " 'min_samples_leaf': 4,\n",
       " 'max_features': 'log2',\n",
       " 'max_depth': 120,\n",
       " 'criterion': 'gini'}"
      ]
     },
     "execution_count": 28,
     "metadata": {},
     "output_type": "execute_result"
    }
   ],
   "source": [
    "rf_randomcv.best_params_"
   ]
  },
  {
   "cell_type": "code",
   "execution_count": 29,
   "id": "5bd7a78a",
   "metadata": {},
   "outputs": [
    {
     "name": "stdout",
     "output_type": "stream",
     "text": [
      "{'criterion': ['gini'], 'max_depth': [120], 'max_features': ['log2'], 'min_samples_leaf': [4, 6, 8], 'min_samples_split': [3, 4, 5, 6, 7], 'n_estimators': [1200, 1300, 1400, 1500, 1600]}\n"
     ]
    }
   ],
   "source": [
    "from sklearn.model_selection import GridSearchCV\n",
    "\n",
    "param_grid = {\n",
    "    'criterion': [rf_randomcv.best_params_['criterion']],\n",
    "    'max_depth': [rf_randomcv.best_params_['max_depth']],\n",
    "    'max_features': [rf_randomcv.best_params_['max_features']],\n",
    "    'min_samples_leaf': [rf_randomcv.best_params_['min_samples_leaf'], \n",
    "                         rf_randomcv.best_params_['min_samples_leaf']+2, \n",
    "                         rf_randomcv.best_params_['min_samples_leaf'] + 4],\n",
    "    'min_samples_split': [rf_randomcv.best_params_['min_samples_split'] - 2,\n",
    "                          rf_randomcv.best_params_['min_samples_split'] - 1,\n",
    "                          rf_randomcv.best_params_['min_samples_split'], \n",
    "                          rf_randomcv.best_params_['min_samples_split'] +1,\n",
    "                          rf_randomcv.best_params_['min_samples_split'] + 2],\n",
    "    'n_estimators': [rf_randomcv.best_params_['n_estimators'] - 200, rf_randomcv.best_params_['n_estimators'] - 100, \n",
    "                     rf_randomcv.best_params_['n_estimators'], \n",
    "                     rf_randomcv.best_params_['n_estimators'] + 100, rf_randomcv.best_params_['n_estimators'] + 200]\n",
    "}\n",
    "\n",
    "print(param_grid)"
   ]
  },
  {
   "cell_type": "code",
   "execution_count": 30,
   "id": "a9f075cb",
   "metadata": {},
   "outputs": [
    {
     "name": "stdout",
     "output_type": "stream",
     "text": [
      "Fitting 10 folds for each of 75 candidates, totalling 750 fits\n"
     ]
    },
    {
     "data": {
      "text/plain": [
       "GridSearchCV(cv=10, estimator=RandomForestClassifier(), n_jobs=-1,\n",
       "             param_grid={'criterion': ['gini'], 'max_depth': [120],\n",
       "                         'max_features': ['log2'],\n",
       "                         'min_samples_leaf': [4, 6, 8],\n",
       "                         'min_samples_split': [3, 4, 5, 6, 7],\n",
       "                         'n_estimators': [1200, 1300, 1400, 1500, 1600]},\n",
       "             verbose=2)"
      ]
     },
     "execution_count": 30,
     "metadata": {},
     "output_type": "execute_result"
    }
   ],
   "source": [
    "#### Fit the grid_search to the data\n",
    "rf=RandomForestClassifier()\n",
    "grid_search=GridSearchCV(estimator=rf,param_grid=param_grid,cv=10,n_jobs=-1,verbose=2)\n",
    "grid_search.fit(X_train,y_train)"
   ]
  },
  {
   "cell_type": "code",
   "execution_count": 31,
   "id": "dcdc3cbb",
   "metadata": {},
   "outputs": [
    {
     "data": {
      "text/plain": [
       "RandomForestClassifier(max_depth=120, max_features='log2', min_samples_leaf=8,\n",
       "                       min_samples_split=3, n_estimators=1500)"
      ]
     },
     "execution_count": 31,
     "metadata": {},
     "output_type": "execute_result"
    }
   ],
   "source": [
    "grid_search.best_estimator_"
   ]
  },
  {
   "cell_type": "code",
   "execution_count": 32,
   "id": "9f94f79b",
   "metadata": {},
   "outputs": [],
   "source": [
    "best_grid=grid_search.best_estimator_"
   ]
  },
  {
   "cell_type": "code",
   "execution_count": 33,
   "id": "063ba6be",
   "metadata": {},
   "outputs": [
    {
     "data": {
      "text/plain": [
       "{'criterion': 'gini',\n",
       " 'max_depth': 120,\n",
       " 'max_features': 'log2',\n",
       " 'min_samples_leaf': 8,\n",
       " 'min_samples_split': 3,\n",
       " 'n_estimators': 1500}"
      ]
     },
     "execution_count": 33,
     "metadata": {},
     "output_type": "execute_result"
    }
   ],
   "source": [
    "grid_search.best_params_"
   ]
  },
  {
   "cell_type": "code",
   "execution_count": 34,
   "id": "21d05569",
   "metadata": {},
   "outputs": [
    {
     "data": {
      "text/plain": [
       "RandomForestClassifier(max_depth=120, max_features='log2', min_samples_leaf=8,\n",
       "                       min_samples_split=3, n_estimators=1500)"
      ]
     },
     "execution_count": 34,
     "metadata": {},
     "output_type": "execute_result"
    }
   ],
   "source": [
    "best_grid"
   ]
  },
  {
   "cell_type": "code",
   "execution_count": 35,
   "id": "09c83ede",
   "metadata": {},
   "outputs": [
    {
     "name": "stdout",
     "output_type": "stream",
     "text": [
      "[[85 11]\n",
      " [12 72]]\n",
      "Accuracy Score 0.8722222222222222\n",
      "Classification report:               precision    recall  f1-score   support\n",
      "\n",
      "       Besni       0.88      0.89      0.88        96\n",
      "     Kecimen       0.87      0.86      0.86        84\n",
      "\n",
      "    accuracy                           0.87       180\n",
      "   macro avg       0.87      0.87      0.87       180\n",
      "weighted avg       0.87      0.87      0.87       180\n",
      "\n"
     ]
    }
   ],
   "source": [
    "y_pred=best_grid.predict(X_test)\n",
    "print(confusion_matrix(y_test,y_pred))\n",
    "print(\"Accuracy Score {}\".format(accuracy_score(y_test,y_pred)))\n",
    "print(\"Classification report: {}\".format(classification_report(y_test,y_pred)))"
   ]
  },
  {
   "cell_type": "markdown",
   "id": "8badd2fd",
   "metadata": {},
   "source": [
    "# The End"
   ]
  }
 ],
 "metadata": {
  "kernelspec": {
   "display_name": "Python 3 (ipykernel)",
   "language": "python",
   "name": "python3"
  },
  "language_info": {
   "codemirror_mode": {
    "name": "ipython",
    "version": 3
   },
   "file_extension": ".py",
   "mimetype": "text/x-python",
   "name": "python",
   "nbconvert_exporter": "python",
   "pygments_lexer": "ipython3",
   "version": "3.9.12"
  }
 },
 "nbformat": 4,
 "nbformat_minor": 5
}
